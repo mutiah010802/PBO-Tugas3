{
  "nbformat": 4,
  "nbformat_minor": 0,
  "metadata": {
    "colab": {
      "provenance": [],
      "authorship_tag": "ABX9TyNNNsckRlJPfFXffKpEl48v",
      "include_colab_link": true
    },
    "kernelspec": {
      "name": "python3",
      "display_name": "Python 3"
    },
    "language_info": {
      "name": "python"
    }
  },
  "cells": [
    {
      "cell_type": "markdown",
      "metadata": {
        "id": "view-in-github",
        "colab_type": "text"
      },
      "source": [
        "<a href=\"https://colab.research.google.com/github/mutiah010802/PBO-Tugas3/blob/main/Class%26Object.ipynb\" target=\"_parent\"><img src=\"https://colab.research.google.com/assets/colab-badge.svg\" alt=\"Open In Colab\"/></a>"
      ]
    },
    {
      "cell_type": "code",
      "source": [
        "# Class Variabel\n",
        "person = 'Person'\n",
        "\n",
        "#The init method or constructor\n",
        "def __init__(self, rambut, warna):\n",
        "\n",
        "  #Intacce Variabel\n",
        "  self.rambut = rambut\n",
        "  self.warna =warna\n",
        "\n",
        "#Objects\n",
        "Budi = Person( \"Ikal\", \"Hitam\")\n",
        "Michael = Person(\"Lurus\", \"Pirang\")\n",
        "\n",
        "print('\\nBudi details:')\n",
        "print('Rambut: ', Budi.rambut)\n",
        "print('Warna Rambut:', Budi.warna)\n",
        "\n",
        "print('\\nMichael details:')\n",
        "print('Rambut: ', Michael.rambut)\n",
        "print('Warna Rambut:', Michael.warna)\n"
      ],
      "metadata": {
        "colab": {
          "base_uri": "https://localhost:8080/"
        },
        "id": "M9J7vgS_ZFCq",
        "outputId": "5847cd10-a7d1-4f65-a5af-34501b40e55e"
      },
      "execution_count": 9,
      "outputs": [
        {
          "output_type": "stream",
          "name": "stdout",
          "text": [
            "\n",
            "Budi details:\n",
            "Rambut:  Ikal\n",
            "Warna Rambut: Hitam\n",
            "\n",
            "Michael details:\n",
            "Rambut:  Lurus\n",
            "Warna Rambut: Pirang\n"
          ]
        }
      ]
    }
  ]
}